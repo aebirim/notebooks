{
 "cells": [
  {
   "cell_type": "markdown",
   "metadata": {},
   "source": [
    "Preparation for web scraping using BeautifulSoup and requests library"
   ]
  },
  {
   "cell_type": "code",
   "execution_count": 1,
   "metadata": {
    "collapsed": true
   },
   "outputs": [],
   "source": [
    "import requests\n",
    "from bs4 import BeautifulSoup"
   ]
  },
  {
   "cell_type": "code",
   "execution_count": 2,
   "metadata": {
    "collapsed": true
   },
   "outputs": [],
   "source": [
    "#url = 'http://www.parliament.uk/business/committees/committees-a-z/commons-select/science-and-technology-committee/inquiries/parliament-2010/fss-follow-up/?type=Written#pnlPublicationFilter'"
   ]
  },
  {
   "cell_type": "code",
   "execution_count": 3,
   "metadata": {
    "collapsed": true
   },
   "outputs": [],
   "source": [
    "url = 'http://www.parliament.uk/business/committees/committees-a-z/commons-select/science-and-technology-committee/inquiries/parliament-2010/women-in-stem-careers/?type=Written#pnlPublicationFilter'"
   ]
  },
  {
   "cell_type": "code",
   "execution_count": 4,
   "metadata": {
    "collapsed": true
   },
   "outputs": [],
   "source": [
    "r = requests.get(url)"
   ]
  },
  {
   "cell_type": "code",
   "execution_count": 5,
   "metadata": {
    "collapsed": true
   },
   "outputs": [],
   "source": [
    "blob = r.text"
   ]
  },
  {
   "cell_type": "code",
   "execution_count": 6,
   "metadata": {
    "collapsed": true
   },
   "outputs": [],
   "source": [
    "soup = BeautifulSoup(blob, 'lxml')"
   ]
  },
  {
   "cell_type": "code",
   "execution_count": 7,
   "metadata": {
    "collapsed": true
   },
   "outputs": [],
   "source": [
    "spans = soup.find_all('span', {'class' : 'reference'})"
   ]
  },
  {
   "cell_type": "code",
   "execution_count": 8,
   "metadata": {
    "collapsed": true
   },
   "outputs": [],
   "source": [
    "lines = [span.get_text('', strip=True) for span in spans]"
   ]
  },
  {
   "cell_type": "code",
   "execution_count": 9,
   "metadata": {},
   "outputs": [
    {
     "data": {
      "text/plain": [
       "['WSC0103',\n",
       " 'WSC0104',\n",
       " 'WSC0105',\n",
       " 'WSC0097',\n",
       " 'WSC0098',\n",
       " 'WSC0099',\n",
       " 'WSC0100',\n",
       " 'WSC0101',\n",
       " 'WSC0102',\n",
       " 'WSC0045',\n",
       " 'WSC0071',\n",
       " 'WSC0096',\n",
       " 'WSC0095',\n",
       " 'WSC0094',\n",
       " 'WSC0092',\n",
       " 'WSC0091',\n",
       " 'WSC0090',\n",
       " 'WSC0089',\n",
       " 'WSC0087',\n",
       " 'WSC0086',\n",
       " 'WSC0085',\n",
       " 'WSC0084',\n",
       " 'WSC0083',\n",
       " 'WSC0081',\n",
       " 'WSC0080',\n",
       " 'WSC0079',\n",
       " 'WSC0078',\n",
       " 'WSC0077',\n",
       " 'WSC0076',\n",
       " 'WSC0075',\n",
       " 'WSC0074',\n",
       " 'WSC0073',\n",
       " 'WSC0072',\n",
       " 'WSC0068',\n",
       " 'WSC0067',\n",
       " 'WSC0066',\n",
       " 'WSC0065',\n",
       " 'WSC0064',\n",
       " 'WSC0063',\n",
       " 'WSC0062',\n",
       " 'WSC0061',\n",
       " 'WSC0060',\n",
       " 'WSC0059',\n",
       " 'WSC0058',\n",
       " 'WSC0057',\n",
       " 'WSC0056',\n",
       " 'WSC0055',\n",
       " 'WSC0054',\n",
       " 'WSC0053',\n",
       " 'WSC0052',\n",
       " 'WSC0051',\n",
       " 'WSC0050',\n",
       " 'WSC0049',\n",
       " 'WSC0048',\n",
       " 'WSC0046',\n",
       " 'WSC0044',\n",
       " 'WSC0043',\n",
       " 'WSC0042',\n",
       " 'WSC0041',\n",
       " 'WSC0040',\n",
       " 'WSC0039',\n",
       " 'WSC0038',\n",
       " 'WSC0037',\n",
       " 'WSC0036',\n",
       " 'WSC0034',\n",
       " 'WSC0033',\n",
       " 'WSC0032',\n",
       " 'WSC0031',\n",
       " 'WSC0029',\n",
       " 'WSC0028',\n",
       " 'WSC0027',\n",
       " 'WSC0026',\n",
       " 'WSC0025',\n",
       " 'WSC0024',\n",
       " 'WSC0023',\n",
       " 'WSC0022',\n",
       " 'WSC0021',\n",
       " 'WSC0020',\n",
       " 'WSC0019',\n",
       " 'WSC0018',\n",
       " 'WSC0017',\n",
       " 'WSC0016',\n",
       " 'WSC0015',\n",
       " 'WSC0014',\n",
       " 'WSC0013',\n",
       " 'WSC0012',\n",
       " 'WSC0011',\n",
       " 'WSC0010',\n",
       " 'WSC0008',\n",
       " 'WSC0007',\n",
       " 'WSC0006',\n",
       " 'WSC0005',\n",
       " 'x WSC0004',\n",
       " 'WSC0003',\n",
       " 'WSC0002']"
      ]
     },
     "execution_count": 9,
     "metadata": {},
     "output_type": "execute_result"
    }
   ],
   "source": [
    "lines"
   ]
  },
  {
   "cell_type": "code",
   "execution_count": 10,
   "metadata": {},
   "outputs": [
    {
     "data": {
      "text/plain": [
       "95"
      ]
     },
     "execution_count": 10,
     "metadata": {},
     "output_type": "execute_result"
    }
   ],
   "source": [
    "len(lines)"
   ]
  },
  {
   "cell_type": "code",
   "execution_count": 11,
   "metadata": {
    "collapsed": true
   },
   "outputs": [],
   "source": [
    "import pandas as pd\n",
    "import numpy as np\n",
    "import os"
   ]
  },
  {
   "cell_type": "code",
   "execution_count": 12,
   "metadata": {},
   "outputs": [
    {
     "data": {
      "text/plain": [
       "'/Users/ebirima/gds_project'"
      ]
     },
     "execution_count": 12,
     "metadata": {},
     "output_type": "execute_result"
    }
   ],
   "source": [
    "#change directory\n",
    "dir = os.getcwd()\n",
    "dir"
   ]
  },
  {
   "cell_type": "code",
   "execution_count": 13,
   "metadata": {
    "collapsed": true
   },
   "outputs": [],
   "source": [
    "base = os.path.dirname(dir)\n",
    "#base = base+'/Downloads/'\n",
    "base += '/Downloads/'"
   ]
  },
  {
   "cell_type": "code",
   "execution_count": 14,
   "metadata": {},
   "outputs": [
    {
     "data": {
      "text/plain": [
       "'/Users/ebirima/Downloads/WSCextract.csv'"
      ]
     },
     "execution_count": 14,
     "metadata": {},
     "output_type": "execute_result"
    }
   ],
   "source": [
    "#f = 'FSSextract.csv'\n",
    "f = 'WSCextract.csv'\n",
    "file = (base, f)\n",
    "filename = ''.join(file)\n",
    "filename"
   ]
  },
  {
   "cell_type": "code",
   "execution_count": 15,
   "metadata": {
    "collapsed": true
   },
   "outputs": [],
   "source": [
    "df = pd.read_csv(filename)"
   ]
  },
  {
   "cell_type": "code",
   "execution_count": 16,
   "metadata": {
    "collapsed": true
   },
   "outputs": [],
   "source": [
    "newdf = df[['InternalId']]"
   ]
  },
  {
   "cell_type": "code",
   "execution_count": 17,
   "metadata": {},
   "outputs": [
    {
     "data": {
      "text/html": [
       "<div>\n",
       "<style>\n",
       "    .dataframe thead tr:only-child th {\n",
       "        text-align: right;\n",
       "    }\n",
       "\n",
       "    .dataframe thead th {\n",
       "        text-align: left;\n",
       "    }\n",
       "\n",
       "    .dataframe tbody tr th {\n",
       "        vertical-align: top;\n",
       "    }\n",
       "</style>\n",
       "<table border=\"1\" class=\"dataframe\">\n",
       "  <thead>\n",
       "    <tr style=\"text-align: right;\">\n",
       "      <th></th>\n",
       "      <th>InternalId</th>\n",
       "    </tr>\n",
       "  </thead>\n",
       "  <tbody>\n",
       "    <tr>\n",
       "      <th>0</th>\n",
       "      <td>x WSC0001</td>\n",
       "    </tr>\n",
       "    <tr>\n",
       "      <th>1</th>\n",
       "      <td>WSC0002</td>\n",
       "    </tr>\n",
       "    <tr>\n",
       "      <th>2</th>\n",
       "      <td>WSC0003</td>\n",
       "    </tr>\n",
       "    <tr>\n",
       "      <th>3</th>\n",
       "      <td>x WSC0004</td>\n",
       "    </tr>\n",
       "    <tr>\n",
       "      <th>4</th>\n",
       "      <td>WSC0005</td>\n",
       "    </tr>\n",
       "    <tr>\n",
       "      <th>5</th>\n",
       "      <td>WSC0006</td>\n",
       "    </tr>\n",
       "    <tr>\n",
       "      <th>6</th>\n",
       "      <td>WSC0007</td>\n",
       "    </tr>\n",
       "    <tr>\n",
       "      <th>7</th>\n",
       "      <td>WSC0008</td>\n",
       "    </tr>\n",
       "    <tr>\n",
       "      <th>8</th>\n",
       "      <td>WSC0009</td>\n",
       "    </tr>\n",
       "    <tr>\n",
       "      <th>9</th>\n",
       "      <td>WSC0010</td>\n",
       "    </tr>\n",
       "    <tr>\n",
       "      <th>10</th>\n",
       "      <td>WSC0011</td>\n",
       "    </tr>\n",
       "    <tr>\n",
       "      <th>11</th>\n",
       "      <td>WSC0012</td>\n",
       "    </tr>\n",
       "    <tr>\n",
       "      <th>12</th>\n",
       "      <td>WSC0013</td>\n",
       "    </tr>\n",
       "    <tr>\n",
       "      <th>13</th>\n",
       "      <td>WSC0014</td>\n",
       "    </tr>\n",
       "    <tr>\n",
       "      <th>14</th>\n",
       "      <td>WSC0015</td>\n",
       "    </tr>\n",
       "    <tr>\n",
       "      <th>15</th>\n",
       "      <td>WSC0016</td>\n",
       "    </tr>\n",
       "    <tr>\n",
       "      <th>16</th>\n",
       "      <td>WSC0017</td>\n",
       "    </tr>\n",
       "    <tr>\n",
       "      <th>17</th>\n",
       "      <td>WSC0018</td>\n",
       "    </tr>\n",
       "    <tr>\n",
       "      <th>18</th>\n",
       "      <td>WSC0019</td>\n",
       "    </tr>\n",
       "    <tr>\n",
       "      <th>19</th>\n",
       "      <td>WSC0020</td>\n",
       "    </tr>\n",
       "    <tr>\n",
       "      <th>20</th>\n",
       "      <td>WSC0021</td>\n",
       "    </tr>\n",
       "    <tr>\n",
       "      <th>21</th>\n",
       "      <td>WSC0022</td>\n",
       "    </tr>\n",
       "    <tr>\n",
       "      <th>22</th>\n",
       "      <td>WSC0023</td>\n",
       "    </tr>\n",
       "    <tr>\n",
       "      <th>23</th>\n",
       "      <td>WSC0024</td>\n",
       "    </tr>\n",
       "    <tr>\n",
       "      <th>24</th>\n",
       "      <td>WSC0025</td>\n",
       "    </tr>\n",
       "    <tr>\n",
       "      <th>25</th>\n",
       "      <td>WSC0026</td>\n",
       "    </tr>\n",
       "    <tr>\n",
       "      <th>26</th>\n",
       "      <td>WSC0027</td>\n",
       "    </tr>\n",
       "    <tr>\n",
       "      <th>27</th>\n",
       "      <td>WSC0028</td>\n",
       "    </tr>\n",
       "    <tr>\n",
       "      <th>28</th>\n",
       "      <td>WSC0029</td>\n",
       "    </tr>\n",
       "    <tr>\n",
       "      <th>29</th>\n",
       "      <td>x WSC0030</td>\n",
       "    </tr>\n",
       "    <tr>\n",
       "      <th>...</th>\n",
       "      <td>...</td>\n",
       "    </tr>\n",
       "    <tr>\n",
       "      <th>75</th>\n",
       "      <td>WSC0076</td>\n",
       "    </tr>\n",
       "    <tr>\n",
       "      <th>76</th>\n",
       "      <td>WSC0077</td>\n",
       "    </tr>\n",
       "    <tr>\n",
       "      <th>77</th>\n",
       "      <td>WSC0078</td>\n",
       "    </tr>\n",
       "    <tr>\n",
       "      <th>78</th>\n",
       "      <td>WSC0079</td>\n",
       "    </tr>\n",
       "    <tr>\n",
       "      <th>79</th>\n",
       "      <td>WSC0080</td>\n",
       "    </tr>\n",
       "    <tr>\n",
       "      <th>80</th>\n",
       "      <td>WSC0081</td>\n",
       "    </tr>\n",
       "    <tr>\n",
       "      <th>81</th>\n",
       "      <td>x WSC0082</td>\n",
       "    </tr>\n",
       "    <tr>\n",
       "      <th>82</th>\n",
       "      <td>WSC0083</td>\n",
       "    </tr>\n",
       "    <tr>\n",
       "      <th>83</th>\n",
       "      <td>WSC0084</td>\n",
       "    </tr>\n",
       "    <tr>\n",
       "      <th>84</th>\n",
       "      <td>WSC0085</td>\n",
       "    </tr>\n",
       "    <tr>\n",
       "      <th>85</th>\n",
       "      <td>WSC0086</td>\n",
       "    </tr>\n",
       "    <tr>\n",
       "      <th>86</th>\n",
       "      <td>WSC0087</td>\n",
       "    </tr>\n",
       "    <tr>\n",
       "      <th>87</th>\n",
       "      <td>x WSC0088</td>\n",
       "    </tr>\n",
       "    <tr>\n",
       "      <th>88</th>\n",
       "      <td>WSC0089</td>\n",
       "    </tr>\n",
       "    <tr>\n",
       "      <th>89</th>\n",
       "      <td>WSC0090</td>\n",
       "    </tr>\n",
       "    <tr>\n",
       "      <th>90</th>\n",
       "      <td>WSC0091</td>\n",
       "    </tr>\n",
       "    <tr>\n",
       "      <th>91</th>\n",
       "      <td>WSC0092</td>\n",
       "    </tr>\n",
       "    <tr>\n",
       "      <th>92</th>\n",
       "      <td>WSC0093</td>\n",
       "    </tr>\n",
       "    <tr>\n",
       "      <th>93</th>\n",
       "      <td>WSC0094</td>\n",
       "    </tr>\n",
       "    <tr>\n",
       "      <th>94</th>\n",
       "      <td>WSC0095</td>\n",
       "    </tr>\n",
       "    <tr>\n",
       "      <th>95</th>\n",
       "      <td>WSC0096</td>\n",
       "    </tr>\n",
       "    <tr>\n",
       "      <th>96</th>\n",
       "      <td>WSC0097</td>\n",
       "    </tr>\n",
       "    <tr>\n",
       "      <th>97</th>\n",
       "      <td>WSC0098</td>\n",
       "    </tr>\n",
       "    <tr>\n",
       "      <th>98</th>\n",
       "      <td>WSC0099</td>\n",
       "    </tr>\n",
       "    <tr>\n",
       "      <th>99</th>\n",
       "      <td>WSC0100</td>\n",
       "    </tr>\n",
       "    <tr>\n",
       "      <th>100</th>\n",
       "      <td>WSC0101</td>\n",
       "    </tr>\n",
       "    <tr>\n",
       "      <th>101</th>\n",
       "      <td>WSC0102</td>\n",
       "    </tr>\n",
       "    <tr>\n",
       "      <th>102</th>\n",
       "      <td>WSC0103</td>\n",
       "    </tr>\n",
       "    <tr>\n",
       "      <th>103</th>\n",
       "      <td>WSC0104</td>\n",
       "    </tr>\n",
       "    <tr>\n",
       "      <th>104</th>\n",
       "      <td>WSC0105</td>\n",
       "    </tr>\n",
       "  </tbody>\n",
       "</table>\n",
       "<p>105 rows × 1 columns</p>\n",
       "</div>"
      ],
      "text/plain": [
       "    InternalId\n",
       "0    x WSC0001\n",
       "1      WSC0002\n",
       "2      WSC0003\n",
       "3    x WSC0004\n",
       "4      WSC0005\n",
       "5      WSC0006\n",
       "6      WSC0007\n",
       "7      WSC0008\n",
       "8      WSC0009\n",
       "9      WSC0010\n",
       "10     WSC0011\n",
       "11     WSC0012\n",
       "12     WSC0013\n",
       "13     WSC0014\n",
       "14     WSC0015\n",
       "15     WSC0016\n",
       "16     WSC0017\n",
       "17     WSC0018\n",
       "18     WSC0019\n",
       "19     WSC0020\n",
       "20     WSC0021\n",
       "21     WSC0022\n",
       "22     WSC0023\n",
       "23     WSC0024\n",
       "24     WSC0025\n",
       "25     WSC0026\n",
       "26     WSC0027\n",
       "27     WSC0028\n",
       "28     WSC0029\n",
       "29   x WSC0030\n",
       "..         ...\n",
       "75     WSC0076\n",
       "76     WSC0077\n",
       "77     WSC0078\n",
       "78     WSC0079\n",
       "79     WSC0080\n",
       "80     WSC0081\n",
       "81   x WSC0082\n",
       "82     WSC0083\n",
       "83     WSC0084\n",
       "84     WSC0085\n",
       "85     WSC0086\n",
       "86     WSC0087\n",
       "87   x WSC0088\n",
       "88     WSC0089\n",
       "89     WSC0090\n",
       "90     WSC0091\n",
       "91     WSC0092\n",
       "92     WSC0093\n",
       "93     WSC0094\n",
       "94     WSC0095\n",
       "95     WSC0096\n",
       "96     WSC0097\n",
       "97     WSC0098\n",
       "98     WSC0099\n",
       "99     WSC0100\n",
       "100    WSC0101\n",
       "101    WSC0102\n",
       "102    WSC0103\n",
       "103    WSC0104\n",
       "104    WSC0105\n",
       "\n",
       "[105 rows x 1 columns]"
      ]
     },
     "execution_count": 17,
     "metadata": {},
     "output_type": "execute_result"
    }
   ],
   "source": [
    "newdf"
   ]
  },
  {
   "cell_type": "code",
   "execution_count": 18,
   "metadata": {},
   "outputs": [
    {
     "data": {
      "text/html": [
       "<div>\n",
       "<style>\n",
       "    .dataframe thead tr:only-child th {\n",
       "        text-align: right;\n",
       "    }\n",
       "\n",
       "    .dataframe thead th {\n",
       "        text-align: left;\n",
       "    }\n",
       "\n",
       "    .dataframe tbody tr th {\n",
       "        vertical-align: top;\n",
       "    }\n",
       "</style>\n",
       "<table border=\"1\" class=\"dataframe\">\n",
       "  <thead>\n",
       "    <tr style=\"text-align: right;\">\n",
       "      <th></th>\n",
       "      <th>InternalId</th>\n",
       "    </tr>\n",
       "  </thead>\n",
       "  <tbody>\n",
       "    <tr>\n",
       "      <th>0</th>\n",
       "      <td>x WSC0001</td>\n",
       "    </tr>\n",
       "    <tr>\n",
       "      <th>1</th>\n",
       "      <td>WSC0002</td>\n",
       "    </tr>\n",
       "    <tr>\n",
       "      <th>2</th>\n",
       "      <td>WSC0003</td>\n",
       "    </tr>\n",
       "    <tr>\n",
       "      <th>3</th>\n",
       "      <td>x WSC0004</td>\n",
       "    </tr>\n",
       "    <tr>\n",
       "      <th>4</th>\n",
       "      <td>WSC0005</td>\n",
       "    </tr>\n",
       "  </tbody>\n",
       "</table>\n",
       "</div>"
      ],
      "text/plain": [
       "  InternalId\n",
       "0  x WSC0001\n",
       "1    WSC0002\n",
       "2    WSC0003\n",
       "3  x WSC0004\n",
       "4    WSC0005"
      ]
     },
     "execution_count": 18,
     "metadata": {},
     "output_type": "execute_result"
    }
   ],
   "source": [
    "newdf.iloc[:5, :] #iloc shows slice of dataframe (i.e. show the first five rows)"
   ]
  },
  {
   "cell_type": "code",
   "execution_count": 19,
   "metadata": {},
   "outputs": [
    {
     "data": {
      "text/html": [
       "<div>\n",
       "<style>\n",
       "    .dataframe thead tr:only-child th {\n",
       "        text-align: right;\n",
       "    }\n",
       "\n",
       "    .dataframe thead th {\n",
       "        text-align: left;\n",
       "    }\n",
       "\n",
       "    .dataframe tbody tr th {\n",
       "        vertical-align: top;\n",
       "    }\n",
       "</style>\n",
       "<table border=\"1\" class=\"dataframe\">\n",
       "  <thead>\n",
       "    <tr style=\"text-align: right;\">\n",
       "      <th></th>\n",
       "      <th>InternalId</th>\n",
       "    </tr>\n",
       "  </thead>\n",
       "  <tbody>\n",
       "    <tr>\n",
       "      <th>100</th>\n",
       "      <td>WSC0101</td>\n",
       "    </tr>\n",
       "    <tr>\n",
       "      <th>101</th>\n",
       "      <td>WSC0102</td>\n",
       "    </tr>\n",
       "    <tr>\n",
       "      <th>102</th>\n",
       "      <td>WSC0103</td>\n",
       "    </tr>\n",
       "    <tr>\n",
       "      <th>103</th>\n",
       "      <td>WSC0104</td>\n",
       "    </tr>\n",
       "    <tr>\n",
       "      <th>104</th>\n",
       "      <td>WSC0105</td>\n",
       "    </tr>\n",
       "  </tbody>\n",
       "</table>\n",
       "</div>"
      ],
      "text/plain": [
       "    InternalId\n",
       "100    WSC0101\n",
       "101    WSC0102\n",
       "102    WSC0103\n",
       "103    WSC0104\n",
       "104    WSC0105"
      ]
     },
     "execution_count": 19,
     "metadata": {},
     "output_type": "execute_result"
    }
   ],
   "source": [
    "newdf.iloc[-5:, :] #iloc shows slice of dataframe (i.e. show the last five rows)"
   ]
  },
  {
   "cell_type": "code",
   "execution_count": 20,
   "metadata": {
    "collapsed": true
   },
   "outputs": [],
   "source": [
    "xy = [row.loc['InternalId'] for row_index, row in newdf.iterrows()]"
   ]
  },
  {
   "cell_type": "code",
   "execution_count": 21,
   "metadata": {},
   "outputs": [
    {
     "data": {
      "text/plain": [
       "['x WSC0001',\n",
       " 'WSC0002',\n",
       " 'WSC0003',\n",
       " 'x WSC0004',\n",
       " 'WSC0005',\n",
       " 'WSC0006',\n",
       " 'WSC0007',\n",
       " 'WSC0008',\n",
       " 'WSC0009',\n",
       " 'WSC0010',\n",
       " 'WSC0011',\n",
       " 'WSC0012',\n",
       " 'WSC0013',\n",
       " 'WSC0014',\n",
       " 'WSC0015',\n",
       " 'WSC0016',\n",
       " 'WSC0017',\n",
       " 'WSC0018',\n",
       " 'WSC0019',\n",
       " 'WSC0020',\n",
       " 'WSC0021',\n",
       " 'WSC0022',\n",
       " 'WSC0023',\n",
       " 'WSC0024',\n",
       " 'WSC0025',\n",
       " 'WSC0026',\n",
       " 'WSC0027',\n",
       " 'WSC0028',\n",
       " 'WSC0029',\n",
       " 'x WSC0030',\n",
       " 'WSC0031',\n",
       " 'WSC0032',\n",
       " 'WSC0033',\n",
       " 'WSC0034',\n",
       " 'x WSC0035',\n",
       " 'WSC0036',\n",
       " 'WSC0037',\n",
       " 'WSC0038',\n",
       " 'WSC0039',\n",
       " 'WSC0040',\n",
       " 'WSC0041',\n",
       " 'WSC0042',\n",
       " 'WSC0043',\n",
       " 'WSC0044',\n",
       " 'WSC0045',\n",
       " 'WSC0046',\n",
       " 'x WSC0047',\n",
       " 'WSC0048',\n",
       " 'WSC0049',\n",
       " 'WSC0050',\n",
       " 'WSC0051',\n",
       " 'WSC0052',\n",
       " 'WSC0053',\n",
       " 'WSC0054',\n",
       " 'WSC0055',\n",
       " 'WSC0056',\n",
       " 'WSC0057',\n",
       " 'WSC0058',\n",
       " 'WSC0059',\n",
       " 'WSC0060',\n",
       " 'WSC0061',\n",
       " 'WSC0062',\n",
       " 'WSC0063',\n",
       " 'WSC0064',\n",
       " 'WSC0065',\n",
       " 'WSC0066',\n",
       " 'WSC0067',\n",
       " 'WSC0068',\n",
       " 'x WSC0069',\n",
       " 'x WSC0070',\n",
       " 'WSC0071',\n",
       " 'WSC0072',\n",
       " 'WSC0073',\n",
       " 'WSC0074',\n",
       " 'WSC0075',\n",
       " 'WSC0076',\n",
       " 'WSC0077',\n",
       " 'WSC0078',\n",
       " 'WSC0079',\n",
       " 'WSC0080',\n",
       " 'WSC0081',\n",
       " 'x WSC0082',\n",
       " 'WSC0083',\n",
       " 'WSC0084',\n",
       " 'WSC0085',\n",
       " 'WSC0086',\n",
       " 'WSC0087',\n",
       " 'x WSC0088',\n",
       " 'WSC0089',\n",
       " 'WSC0090',\n",
       " 'WSC0091',\n",
       " 'WSC0092',\n",
       " 'WSC0093',\n",
       " 'WSC0094',\n",
       " 'WSC0095',\n",
       " 'WSC0096',\n",
       " 'WSC0097',\n",
       " 'WSC0098',\n",
       " 'WSC0099',\n",
       " 'WSC0100',\n",
       " 'WSC0101',\n",
       " 'WSC0102',\n",
       " 'WSC0103',\n",
       " 'WSC0104',\n",
       " 'WSC0105']"
      ]
     },
     "execution_count": 21,
     "metadata": {},
     "output_type": "execute_result"
    }
   ],
   "source": [
    "xy"
   ]
  },
  {
   "cell_type": "code",
   "execution_count": 22,
   "metadata": {},
   "outputs": [
    {
     "data": {
      "text/plain": [
       "105"
      ]
     },
     "execution_count": 22,
     "metadata": {},
     "output_type": "execute_result"
    }
   ],
   "source": [
    "len(xy)"
   ]
  },
  {
   "cell_type": "code",
   "execution_count": 23,
   "metadata": {},
   "outputs": [
    {
     "data": {
      "text/plain": [
       "['x WSC0001',\n",
       " 'WSC0002',\n",
       " 'WSC0003',\n",
       " 'x WSC0004',\n",
       " 'WSC0005',\n",
       " 'WSC0006',\n",
       " 'WSC0007',\n",
       " 'WSC0008',\n",
       " 'WSC0009',\n",
       " 'WSC0010',\n",
       " 'WSC0011',\n",
       " 'WSC0012',\n",
       " 'WSC0013',\n",
       " 'WSC0014',\n",
       " 'WSC0015',\n",
       " 'WSC0016',\n",
       " 'WSC0017',\n",
       " 'WSC0018',\n",
       " 'WSC0019',\n",
       " 'WSC0020',\n",
       " 'WSC0021',\n",
       " 'WSC0022',\n",
       " 'WSC0023',\n",
       " 'WSC0024',\n",
       " 'WSC0025',\n",
       " 'WSC0026',\n",
       " 'WSC0027',\n",
       " 'WSC0028',\n",
       " 'WSC0029',\n",
       " 'x WSC0030',\n",
       " 'WSC0031',\n",
       " 'WSC0032',\n",
       " 'WSC0033',\n",
       " 'WSC0034',\n",
       " 'x WSC0035',\n",
       " 'WSC0036',\n",
       " 'WSC0037',\n",
       " 'WSC0038',\n",
       " 'WSC0039',\n",
       " 'WSC0040',\n",
       " 'WSC0041',\n",
       " 'WSC0042',\n",
       " 'WSC0043',\n",
       " 'WSC0044',\n",
       " 'WSC0045',\n",
       " 'WSC0046',\n",
       " 'x WSC0047',\n",
       " 'WSC0048',\n",
       " 'WSC0049',\n",
       " 'WSC0050',\n",
       " 'WSC0051',\n",
       " 'WSC0052',\n",
       " 'WSC0053',\n",
       " 'WSC0054',\n",
       " 'WSC0055',\n",
       " 'WSC0056',\n",
       " 'WSC0057',\n",
       " 'WSC0058',\n",
       " 'WSC0059',\n",
       " 'WSC0060',\n",
       " 'WSC0061',\n",
       " 'WSC0062',\n",
       " 'WSC0063',\n",
       " 'WSC0064',\n",
       " 'WSC0065',\n",
       " 'WSC0066',\n",
       " 'WSC0067',\n",
       " 'WSC0068',\n",
       " 'x WSC0069',\n",
       " 'x WSC0070',\n",
       " 'WSC0071',\n",
       " 'WSC0072',\n",
       " 'WSC0073',\n",
       " 'WSC0074',\n",
       " 'WSC0075',\n",
       " 'WSC0076',\n",
       " 'WSC0077',\n",
       " 'WSC0078',\n",
       " 'WSC0079',\n",
       " 'WSC0080',\n",
       " 'WSC0081',\n",
       " 'x WSC0082',\n",
       " 'WSC0083',\n",
       " 'WSC0084',\n",
       " 'WSC0085',\n",
       " 'WSC0086',\n",
       " 'WSC0087',\n",
       " 'x WSC0088',\n",
       " 'WSC0089',\n",
       " 'WSC0090',\n",
       " 'WSC0091',\n",
       " 'WSC0092',\n",
       " 'WSC0093',\n",
       " 'WSC0094',\n",
       " 'WSC0095',\n",
       " 'WSC0096',\n",
       " 'WSC0097',\n",
       " 'WSC0098',\n",
       " 'WSC0099',\n",
       " 'WSC0100',\n",
       " 'WSC0101',\n",
       " 'WSC0102',\n",
       " 'WSC0103',\n",
       " 'WSC0104',\n",
       " 'WSC0105']"
      ]
     },
     "execution_count": 23,
     "metadata": {},
     "output_type": "execute_result"
    }
   ],
   "source": [
    "tt = list(newdf.values.flatten())\n",
    "tt"
   ]
  },
  {
   "cell_type": "code",
   "execution_count": 24,
   "metadata": {
    "collapsed": true
   },
   "outputs": [],
   "source": [
    "tt_list = tt"
   ]
  },
  {
   "cell_type": "code",
   "execution_count": 25,
   "metadata": {},
   "outputs": [
    {
     "data": {
      "text/plain": [
       "['x WSC0001',\n",
       " 'WSC0002',\n",
       " 'WSC0003',\n",
       " 'x WSC0004',\n",
       " 'WSC0005',\n",
       " 'WSC0006',\n",
       " 'WSC0007',\n",
       " 'WSC0008',\n",
       " 'WSC0009',\n",
       " 'WSC0010',\n",
       " 'WSC0011',\n",
       " 'WSC0012',\n",
       " 'WSC0013',\n",
       " 'WSC0014',\n",
       " 'WSC0015',\n",
       " 'WSC0016',\n",
       " 'WSC0017',\n",
       " 'WSC0018',\n",
       " 'WSC0019',\n",
       " 'WSC0020',\n",
       " 'WSC0021',\n",
       " 'WSC0022',\n",
       " 'WSC0023',\n",
       " 'WSC0024',\n",
       " 'WSC0025',\n",
       " 'WSC0026',\n",
       " 'WSC0027',\n",
       " 'WSC0028',\n",
       " 'WSC0029',\n",
       " 'x WSC0030',\n",
       " 'WSC0031',\n",
       " 'WSC0032',\n",
       " 'WSC0033',\n",
       " 'WSC0034',\n",
       " 'x WSC0035',\n",
       " 'WSC0036',\n",
       " 'WSC0037',\n",
       " 'WSC0038',\n",
       " 'WSC0039',\n",
       " 'WSC0040',\n",
       " 'WSC0041',\n",
       " 'WSC0042',\n",
       " 'WSC0043',\n",
       " 'WSC0044',\n",
       " 'WSC0045',\n",
       " 'WSC0046',\n",
       " 'x WSC0047',\n",
       " 'WSC0048',\n",
       " 'WSC0049',\n",
       " 'WSC0050',\n",
       " 'WSC0051',\n",
       " 'WSC0052',\n",
       " 'WSC0053',\n",
       " 'WSC0054',\n",
       " 'WSC0055',\n",
       " 'WSC0056',\n",
       " 'WSC0057',\n",
       " 'WSC0058',\n",
       " 'WSC0059',\n",
       " 'WSC0060',\n",
       " 'WSC0061',\n",
       " 'WSC0062',\n",
       " 'WSC0063',\n",
       " 'WSC0064',\n",
       " 'WSC0065',\n",
       " 'WSC0066',\n",
       " 'WSC0067',\n",
       " 'WSC0068',\n",
       " 'x WSC0069',\n",
       " 'x WSC0070',\n",
       " 'WSC0071',\n",
       " 'WSC0072',\n",
       " 'WSC0073',\n",
       " 'WSC0074',\n",
       " 'WSC0075',\n",
       " 'WSC0076',\n",
       " 'WSC0077',\n",
       " 'WSC0078',\n",
       " 'WSC0079',\n",
       " 'WSC0080',\n",
       " 'WSC0081',\n",
       " 'x WSC0082',\n",
       " 'WSC0083',\n",
       " 'WSC0084',\n",
       " 'WSC0085',\n",
       " 'WSC0086',\n",
       " 'WSC0087',\n",
       " 'x WSC0088',\n",
       " 'WSC0089',\n",
       " 'WSC0090',\n",
       " 'WSC0091',\n",
       " 'WSC0092',\n",
       " 'WSC0093',\n",
       " 'WSC0094',\n",
       " 'WSC0095',\n",
       " 'WSC0096',\n",
       " 'WSC0097',\n",
       " 'WSC0098',\n",
       " 'WSC0099',\n",
       " 'WSC0100',\n",
       " 'WSC0101',\n",
       " 'WSC0102',\n",
       " 'WSC0103',\n",
       " 'WSC0104',\n",
       " 'WSC0105']"
      ]
     },
     "execution_count": 25,
     "metadata": {},
     "output_type": "execute_result"
    }
   ],
   "source": [
    "tt_list"
   ]
  },
  {
   "cell_type": "code",
   "execution_count": 26,
   "metadata": {},
   "outputs": [
    {
     "data": {
      "text/plain": [
       "105"
      ]
     },
     "execution_count": 26,
     "metadata": {},
     "output_type": "execute_result"
    }
   ],
   "source": [
    "len(tt_list)"
   ]
  },
  {
   "cell_type": "code",
   "execution_count": 27,
   "metadata": {},
   "outputs": [
    {
     "data": {
      "text/plain": [
       "['WSC0103',\n",
       " 'WSC0104',\n",
       " 'WSC0105',\n",
       " 'WSC0097',\n",
       " 'WSC0098',\n",
       " 'WSC0099',\n",
       " 'WSC0100',\n",
       " 'WSC0101',\n",
       " 'WSC0102',\n",
       " 'WSC0045',\n",
       " 'WSC0071',\n",
       " 'WSC0096',\n",
       " 'WSC0095',\n",
       " 'WSC0094',\n",
       " 'WSC0092',\n",
       " 'WSC0091',\n",
       " 'WSC0090',\n",
       " 'WSC0089',\n",
       " 'WSC0087',\n",
       " 'WSC0086',\n",
       " 'WSC0085',\n",
       " 'WSC0084',\n",
       " 'WSC0083',\n",
       " 'WSC0081',\n",
       " 'WSC0080',\n",
       " 'WSC0079',\n",
       " 'WSC0078',\n",
       " 'WSC0077',\n",
       " 'WSC0076',\n",
       " 'WSC0075',\n",
       " 'WSC0074',\n",
       " 'WSC0073',\n",
       " 'WSC0072',\n",
       " 'WSC0068',\n",
       " 'WSC0067',\n",
       " 'WSC0066',\n",
       " 'WSC0065',\n",
       " 'WSC0064',\n",
       " 'WSC0063',\n",
       " 'WSC0062',\n",
       " 'WSC0061',\n",
       " 'WSC0060',\n",
       " 'WSC0059',\n",
       " 'WSC0058',\n",
       " 'WSC0057',\n",
       " 'WSC0056',\n",
       " 'WSC0055',\n",
       " 'WSC0054',\n",
       " 'WSC0053',\n",
       " 'WSC0052',\n",
       " 'WSC0051',\n",
       " 'WSC0050',\n",
       " 'WSC0049',\n",
       " 'WSC0048',\n",
       " 'WSC0046',\n",
       " 'WSC0044',\n",
       " 'WSC0043',\n",
       " 'WSC0042',\n",
       " 'WSC0041',\n",
       " 'WSC0040',\n",
       " 'WSC0039',\n",
       " 'WSC0038',\n",
       " 'WSC0037',\n",
       " 'WSC0036',\n",
       " 'WSC0034',\n",
       " 'WSC0033',\n",
       " 'WSC0032',\n",
       " 'WSC0031',\n",
       " 'WSC0029',\n",
       " 'WSC0028',\n",
       " 'WSC0027',\n",
       " 'WSC0026',\n",
       " 'WSC0025',\n",
       " 'WSC0024',\n",
       " 'WSC0023',\n",
       " 'WSC0022',\n",
       " 'WSC0021',\n",
       " 'WSC0020',\n",
       " 'WSC0019',\n",
       " 'WSC0018',\n",
       " 'WSC0017',\n",
       " 'WSC0016',\n",
       " 'WSC0015',\n",
       " 'WSC0014',\n",
       " 'WSC0013',\n",
       " 'WSC0012',\n",
       " 'WSC0011',\n",
       " 'WSC0010',\n",
       " 'WSC0008',\n",
       " 'WSC0007',\n",
       " 'WSC0006',\n",
       " 'WSC0005',\n",
       " 'x WSC0004',\n",
       " 'WSC0003',\n",
       " 'WSC0002']"
      ]
     },
     "execution_count": 27,
     "metadata": {},
     "output_type": "execute_result"
    }
   ],
   "source": [
    "lines"
   ]
  },
  {
   "cell_type": "code",
   "execution_count": 28,
   "metadata": {},
   "outputs": [
    {
     "data": {
      "text/plain": [
       "105"
      ]
     },
     "execution_count": 28,
     "metadata": {},
     "output_type": "execute_result"
    }
   ],
   "source": [
    "len(tt_list) #extract containing all entries both accepted and rejected in spreadsheet"
   ]
  },
  {
   "cell_type": "code",
   "execution_count": 29,
   "metadata": {},
   "outputs": [
    {
     "data": {
      "text/plain": [
       "95"
      ]
     },
     "execution_count": 29,
     "metadata": {},
     "output_type": "execute_result"
    }
   ],
   "source": [
    "len(lines) #extract showing all accepted entries published"
   ]
  },
  {
   "cell_type": "code",
   "execution_count": 30,
   "metadata": {
    "collapsed": true
   },
   "outputs": [],
   "source": [
    "status = {}"
   ]
  },
  {
   "cell_type": "code",
   "execution_count": 31,
   "metadata": {},
   "outputs": [
    {
     "data": {
      "text/plain": [
       "{}"
      ]
     },
     "execution_count": 31,
     "metadata": {},
     "output_type": "execute_result"
    }
   ],
   "source": [
    "status"
   ]
  },
  {
   "cell_type": "code",
   "execution_count": 32,
   "metadata": {
    "collapsed": true
   },
   "outputs": [],
   "source": [
    "s_tt_list = set(tt_list)"
   ]
  },
  {
   "cell_type": "code",
   "execution_count": 33,
   "metadata": {
    "collapsed": true
   },
   "outputs": [],
   "source": [
    "s_lines = set(lines)"
   ]
  },
  {
   "cell_type": "code",
   "execution_count": 34,
   "metadata": {},
   "outputs": [
    {
     "data": {
      "text/plain": [
       "{'WSC0002',\n",
       " 'WSC0003',\n",
       " 'WSC0005',\n",
       " 'WSC0006',\n",
       " 'WSC0007',\n",
       " 'WSC0008',\n",
       " 'WSC0009',\n",
       " 'WSC0010',\n",
       " 'WSC0011',\n",
       " 'WSC0012',\n",
       " 'WSC0013',\n",
       " 'WSC0014',\n",
       " 'WSC0015',\n",
       " 'WSC0016',\n",
       " 'WSC0017',\n",
       " 'WSC0018',\n",
       " 'WSC0019',\n",
       " 'WSC0020',\n",
       " 'WSC0021',\n",
       " 'WSC0022',\n",
       " 'WSC0023',\n",
       " 'WSC0024',\n",
       " 'WSC0025',\n",
       " 'WSC0026',\n",
       " 'WSC0027',\n",
       " 'WSC0028',\n",
       " 'WSC0029',\n",
       " 'WSC0031',\n",
       " 'WSC0032',\n",
       " 'WSC0033',\n",
       " 'WSC0034',\n",
       " 'WSC0036',\n",
       " 'WSC0037',\n",
       " 'WSC0038',\n",
       " 'WSC0039',\n",
       " 'WSC0040',\n",
       " 'WSC0041',\n",
       " 'WSC0042',\n",
       " 'WSC0043',\n",
       " 'WSC0044',\n",
       " 'WSC0045',\n",
       " 'WSC0046',\n",
       " 'WSC0048',\n",
       " 'WSC0049',\n",
       " 'WSC0050',\n",
       " 'WSC0051',\n",
       " 'WSC0052',\n",
       " 'WSC0053',\n",
       " 'WSC0054',\n",
       " 'WSC0055',\n",
       " 'WSC0056',\n",
       " 'WSC0057',\n",
       " 'WSC0058',\n",
       " 'WSC0059',\n",
       " 'WSC0060',\n",
       " 'WSC0061',\n",
       " 'WSC0062',\n",
       " 'WSC0063',\n",
       " 'WSC0064',\n",
       " 'WSC0065',\n",
       " 'WSC0066',\n",
       " 'WSC0067',\n",
       " 'WSC0068',\n",
       " 'WSC0071',\n",
       " 'WSC0072',\n",
       " 'WSC0073',\n",
       " 'WSC0074',\n",
       " 'WSC0075',\n",
       " 'WSC0076',\n",
       " 'WSC0077',\n",
       " 'WSC0078',\n",
       " 'WSC0079',\n",
       " 'WSC0080',\n",
       " 'WSC0081',\n",
       " 'WSC0083',\n",
       " 'WSC0084',\n",
       " 'WSC0085',\n",
       " 'WSC0086',\n",
       " 'WSC0087',\n",
       " 'WSC0089',\n",
       " 'WSC0090',\n",
       " 'WSC0091',\n",
       " 'WSC0092',\n",
       " 'WSC0093',\n",
       " 'WSC0094',\n",
       " 'WSC0095',\n",
       " 'WSC0096',\n",
       " 'WSC0097',\n",
       " 'WSC0098',\n",
       " 'WSC0099',\n",
       " 'WSC0100',\n",
       " 'WSC0101',\n",
       " 'WSC0102',\n",
       " 'WSC0103',\n",
       " 'WSC0104',\n",
       " 'WSC0105',\n",
       " 'x WSC0001',\n",
       " 'x WSC0004',\n",
       " 'x WSC0030',\n",
       " 'x WSC0035',\n",
       " 'x WSC0047',\n",
       " 'x WSC0069',\n",
       " 'x WSC0070',\n",
       " 'x WSC0082',\n",
       " 'x WSC0088'}"
      ]
     },
     "execution_count": 34,
     "metadata": {},
     "output_type": "execute_result"
    }
   ],
   "source": [
    "s_tt_list"
   ]
  },
  {
   "cell_type": "code",
   "execution_count": 35,
   "metadata": {},
   "outputs": [
    {
     "data": {
      "text/plain": [
       "{'WSC0002',\n",
       " 'WSC0003',\n",
       " 'WSC0005',\n",
       " 'WSC0006',\n",
       " 'WSC0007',\n",
       " 'WSC0008',\n",
       " 'WSC0010',\n",
       " 'WSC0011',\n",
       " 'WSC0012',\n",
       " 'WSC0013',\n",
       " 'WSC0014',\n",
       " 'WSC0015',\n",
       " 'WSC0016',\n",
       " 'WSC0017',\n",
       " 'WSC0018',\n",
       " 'WSC0019',\n",
       " 'WSC0020',\n",
       " 'WSC0021',\n",
       " 'WSC0022',\n",
       " 'WSC0023',\n",
       " 'WSC0024',\n",
       " 'WSC0025',\n",
       " 'WSC0026',\n",
       " 'WSC0027',\n",
       " 'WSC0028',\n",
       " 'WSC0029',\n",
       " 'WSC0031',\n",
       " 'WSC0032',\n",
       " 'WSC0033',\n",
       " 'WSC0034',\n",
       " 'WSC0036',\n",
       " 'WSC0037',\n",
       " 'WSC0038',\n",
       " 'WSC0039',\n",
       " 'WSC0040',\n",
       " 'WSC0041',\n",
       " 'WSC0042',\n",
       " 'WSC0043',\n",
       " 'WSC0044',\n",
       " 'WSC0045',\n",
       " 'WSC0046',\n",
       " 'WSC0048',\n",
       " 'WSC0049',\n",
       " 'WSC0050',\n",
       " 'WSC0051',\n",
       " 'WSC0052',\n",
       " 'WSC0053',\n",
       " 'WSC0054',\n",
       " 'WSC0055',\n",
       " 'WSC0056',\n",
       " 'WSC0057',\n",
       " 'WSC0058',\n",
       " 'WSC0059',\n",
       " 'WSC0060',\n",
       " 'WSC0061',\n",
       " 'WSC0062',\n",
       " 'WSC0063',\n",
       " 'WSC0064',\n",
       " 'WSC0065',\n",
       " 'WSC0066',\n",
       " 'WSC0067',\n",
       " 'WSC0068',\n",
       " 'WSC0071',\n",
       " 'WSC0072',\n",
       " 'WSC0073',\n",
       " 'WSC0074',\n",
       " 'WSC0075',\n",
       " 'WSC0076',\n",
       " 'WSC0077',\n",
       " 'WSC0078',\n",
       " 'WSC0079',\n",
       " 'WSC0080',\n",
       " 'WSC0081',\n",
       " 'WSC0083',\n",
       " 'WSC0084',\n",
       " 'WSC0085',\n",
       " 'WSC0086',\n",
       " 'WSC0087',\n",
       " 'WSC0089',\n",
       " 'WSC0090',\n",
       " 'WSC0091',\n",
       " 'WSC0092',\n",
       " 'WSC0094',\n",
       " 'WSC0095',\n",
       " 'WSC0096',\n",
       " 'WSC0097',\n",
       " 'WSC0098',\n",
       " 'WSC0099',\n",
       " 'WSC0100',\n",
       " 'WSC0101',\n",
       " 'WSC0102',\n",
       " 'WSC0103',\n",
       " 'WSC0104',\n",
       " 'WSC0105',\n",
       " 'x WSC0004'}"
      ]
     },
     "execution_count": 35,
     "metadata": {},
     "output_type": "execute_result"
    }
   ],
   "source": [
    "s_lines"
   ]
  },
  {
   "cell_type": "code",
   "execution_count": 36,
   "metadata": {
    "collapsed": true
   },
   "outputs": [],
   "source": [
    "status['accepted'] = s_lines "
   ]
  },
  {
   "cell_type": "code",
   "execution_count": 37,
   "metadata": {},
   "outputs": [
    {
     "data": {
      "text/plain": [
       "{'accepted': {'WSC0002',\n",
       "  'WSC0003',\n",
       "  'WSC0005',\n",
       "  'WSC0006',\n",
       "  'WSC0007',\n",
       "  'WSC0008',\n",
       "  'WSC0010',\n",
       "  'WSC0011',\n",
       "  'WSC0012',\n",
       "  'WSC0013',\n",
       "  'WSC0014',\n",
       "  'WSC0015',\n",
       "  'WSC0016',\n",
       "  'WSC0017',\n",
       "  'WSC0018',\n",
       "  'WSC0019',\n",
       "  'WSC0020',\n",
       "  'WSC0021',\n",
       "  'WSC0022',\n",
       "  'WSC0023',\n",
       "  'WSC0024',\n",
       "  'WSC0025',\n",
       "  'WSC0026',\n",
       "  'WSC0027',\n",
       "  'WSC0028',\n",
       "  'WSC0029',\n",
       "  'WSC0031',\n",
       "  'WSC0032',\n",
       "  'WSC0033',\n",
       "  'WSC0034',\n",
       "  'WSC0036',\n",
       "  'WSC0037',\n",
       "  'WSC0038',\n",
       "  'WSC0039',\n",
       "  'WSC0040',\n",
       "  'WSC0041',\n",
       "  'WSC0042',\n",
       "  'WSC0043',\n",
       "  'WSC0044',\n",
       "  'WSC0045',\n",
       "  'WSC0046',\n",
       "  'WSC0048',\n",
       "  'WSC0049',\n",
       "  'WSC0050',\n",
       "  'WSC0051',\n",
       "  'WSC0052',\n",
       "  'WSC0053',\n",
       "  'WSC0054',\n",
       "  'WSC0055',\n",
       "  'WSC0056',\n",
       "  'WSC0057',\n",
       "  'WSC0058',\n",
       "  'WSC0059',\n",
       "  'WSC0060',\n",
       "  'WSC0061',\n",
       "  'WSC0062',\n",
       "  'WSC0063',\n",
       "  'WSC0064',\n",
       "  'WSC0065',\n",
       "  'WSC0066',\n",
       "  'WSC0067',\n",
       "  'WSC0068',\n",
       "  'WSC0071',\n",
       "  'WSC0072',\n",
       "  'WSC0073',\n",
       "  'WSC0074',\n",
       "  'WSC0075',\n",
       "  'WSC0076',\n",
       "  'WSC0077',\n",
       "  'WSC0078',\n",
       "  'WSC0079',\n",
       "  'WSC0080',\n",
       "  'WSC0081',\n",
       "  'WSC0083',\n",
       "  'WSC0084',\n",
       "  'WSC0085',\n",
       "  'WSC0086',\n",
       "  'WSC0087',\n",
       "  'WSC0089',\n",
       "  'WSC0090',\n",
       "  'WSC0091',\n",
       "  'WSC0092',\n",
       "  'WSC0094',\n",
       "  'WSC0095',\n",
       "  'WSC0096',\n",
       "  'WSC0097',\n",
       "  'WSC0098',\n",
       "  'WSC0099',\n",
       "  'WSC0100',\n",
       "  'WSC0101',\n",
       "  'WSC0102',\n",
       "  'WSC0103',\n",
       "  'WSC0104',\n",
       "  'WSC0105',\n",
       "  'x WSC0004'}}"
      ]
     },
     "execution_count": 37,
     "metadata": {},
     "output_type": "execute_result"
    }
   ],
   "source": [
    "status"
   ]
  },
  {
   "cell_type": "code",
   "execution_count": 38,
   "metadata": {
    "collapsed": true
   },
   "outputs": [],
   "source": [
    "#status['rejected'] = s_tt_list - s_lines"
   ]
  },
  {
   "cell_type": "code",
   "execution_count": 39,
   "metadata": {
    "collapsed": true
   },
   "outputs": [],
   "source": [
    "s_rej = s_tt_list - s_lines"
   ]
  },
  {
   "cell_type": "code",
   "execution_count": 40,
   "metadata": {},
   "outputs": [
    {
     "data": {
      "text/plain": [
       "{'WSC0009',\n",
       " 'WSC0093',\n",
       " 'x WSC0001',\n",
       " 'x WSC0030',\n",
       " 'x WSC0035',\n",
       " 'x WSC0047',\n",
       " 'x WSC0069',\n",
       " 'x WSC0070',\n",
       " 'x WSC0082',\n",
       " 'x WSC0088'}"
      ]
     },
     "execution_count": 40,
     "metadata": {},
     "output_type": "execute_result"
    }
   ],
   "source": [
    "s_rej"
   ]
  },
  {
   "cell_type": "code",
   "execution_count": 41,
   "metadata": {
    "collapsed": true
   },
   "outputs": [],
   "source": [
    "status['rejected'] = s_rej"
   ]
  },
  {
   "cell_type": "code",
   "execution_count": 42,
   "metadata": {},
   "outputs": [
    {
     "data": {
      "text/plain": [
       "10"
      ]
     },
     "execution_count": 42,
     "metadata": {},
     "output_type": "execute_result"
    }
   ],
   "source": [
    "len(status['rejected']) #showing all rejected entries"
   ]
  },
  {
   "cell_type": "code",
   "execution_count": 43,
   "metadata": {},
   "outputs": [
    {
     "data": {
      "text/plain": [
       "{'accepted': {'WSC0002',\n",
       "  'WSC0003',\n",
       "  'WSC0005',\n",
       "  'WSC0006',\n",
       "  'WSC0007',\n",
       "  'WSC0008',\n",
       "  'WSC0010',\n",
       "  'WSC0011',\n",
       "  'WSC0012',\n",
       "  'WSC0013',\n",
       "  'WSC0014',\n",
       "  'WSC0015',\n",
       "  'WSC0016',\n",
       "  'WSC0017',\n",
       "  'WSC0018',\n",
       "  'WSC0019',\n",
       "  'WSC0020',\n",
       "  'WSC0021',\n",
       "  'WSC0022',\n",
       "  'WSC0023',\n",
       "  'WSC0024',\n",
       "  'WSC0025',\n",
       "  'WSC0026',\n",
       "  'WSC0027',\n",
       "  'WSC0028',\n",
       "  'WSC0029',\n",
       "  'WSC0031',\n",
       "  'WSC0032',\n",
       "  'WSC0033',\n",
       "  'WSC0034',\n",
       "  'WSC0036',\n",
       "  'WSC0037',\n",
       "  'WSC0038',\n",
       "  'WSC0039',\n",
       "  'WSC0040',\n",
       "  'WSC0041',\n",
       "  'WSC0042',\n",
       "  'WSC0043',\n",
       "  'WSC0044',\n",
       "  'WSC0045',\n",
       "  'WSC0046',\n",
       "  'WSC0048',\n",
       "  'WSC0049',\n",
       "  'WSC0050',\n",
       "  'WSC0051',\n",
       "  'WSC0052',\n",
       "  'WSC0053',\n",
       "  'WSC0054',\n",
       "  'WSC0055',\n",
       "  'WSC0056',\n",
       "  'WSC0057',\n",
       "  'WSC0058',\n",
       "  'WSC0059',\n",
       "  'WSC0060',\n",
       "  'WSC0061',\n",
       "  'WSC0062',\n",
       "  'WSC0063',\n",
       "  'WSC0064',\n",
       "  'WSC0065',\n",
       "  'WSC0066',\n",
       "  'WSC0067',\n",
       "  'WSC0068',\n",
       "  'WSC0071',\n",
       "  'WSC0072',\n",
       "  'WSC0073',\n",
       "  'WSC0074',\n",
       "  'WSC0075',\n",
       "  'WSC0076',\n",
       "  'WSC0077',\n",
       "  'WSC0078',\n",
       "  'WSC0079',\n",
       "  'WSC0080',\n",
       "  'WSC0081',\n",
       "  'WSC0083',\n",
       "  'WSC0084',\n",
       "  'WSC0085',\n",
       "  'WSC0086',\n",
       "  'WSC0087',\n",
       "  'WSC0089',\n",
       "  'WSC0090',\n",
       "  'WSC0091',\n",
       "  'WSC0092',\n",
       "  'WSC0094',\n",
       "  'WSC0095',\n",
       "  'WSC0096',\n",
       "  'WSC0097',\n",
       "  'WSC0098',\n",
       "  'WSC0099',\n",
       "  'WSC0100',\n",
       "  'WSC0101',\n",
       "  'WSC0102',\n",
       "  'WSC0103',\n",
       "  'WSC0104',\n",
       "  'WSC0105',\n",
       "  'x WSC0004'},\n",
       " 'rejected': {'WSC0009',\n",
       "  'WSC0093',\n",
       "  'x WSC0001',\n",
       "  'x WSC0030',\n",
       "  'x WSC0035',\n",
       "  'x WSC0047',\n",
       "  'x WSC0069',\n",
       "  'x WSC0070',\n",
       "  'x WSC0082',\n",
       "  'x WSC0088'}}"
      ]
     },
     "execution_count": 43,
     "metadata": {},
     "output_type": "execute_result"
    }
   ],
   "source": [
    "status"
   ]
  },
  {
   "cell_type": "code",
   "execution_count": 44,
   "metadata": {},
   "outputs": [
    {
     "data": {
      "text/plain": [
       "dict_keys(['accepted', 'rejected'])"
      ]
     },
     "execution_count": 44,
     "metadata": {},
     "output_type": "execute_result"
    }
   ],
   "source": [
    "status.keys()"
   ]
  },
  {
   "cell_type": "code",
   "execution_count": 45,
   "metadata": {},
   "outputs": [
    {
     "data": {
      "text/plain": [
       "{'WSC0002',\n",
       " 'WSC0003',\n",
       " 'WSC0005',\n",
       " 'WSC0006',\n",
       " 'WSC0007',\n",
       " 'WSC0008',\n",
       " 'WSC0010',\n",
       " 'WSC0011',\n",
       " 'WSC0012',\n",
       " 'WSC0013',\n",
       " 'WSC0014',\n",
       " 'WSC0015',\n",
       " 'WSC0016',\n",
       " 'WSC0017',\n",
       " 'WSC0018',\n",
       " 'WSC0019',\n",
       " 'WSC0020',\n",
       " 'WSC0021',\n",
       " 'WSC0022',\n",
       " 'WSC0023',\n",
       " 'WSC0024',\n",
       " 'WSC0025',\n",
       " 'WSC0026',\n",
       " 'WSC0027',\n",
       " 'WSC0028',\n",
       " 'WSC0029',\n",
       " 'WSC0031',\n",
       " 'WSC0032',\n",
       " 'WSC0033',\n",
       " 'WSC0034',\n",
       " 'WSC0036',\n",
       " 'WSC0037',\n",
       " 'WSC0038',\n",
       " 'WSC0039',\n",
       " 'WSC0040',\n",
       " 'WSC0041',\n",
       " 'WSC0042',\n",
       " 'WSC0043',\n",
       " 'WSC0044',\n",
       " 'WSC0045',\n",
       " 'WSC0046',\n",
       " 'WSC0048',\n",
       " 'WSC0049',\n",
       " 'WSC0050',\n",
       " 'WSC0051',\n",
       " 'WSC0052',\n",
       " 'WSC0053',\n",
       " 'WSC0054',\n",
       " 'WSC0055',\n",
       " 'WSC0056',\n",
       " 'WSC0057',\n",
       " 'WSC0058',\n",
       " 'WSC0059',\n",
       " 'WSC0060',\n",
       " 'WSC0061',\n",
       " 'WSC0062',\n",
       " 'WSC0063',\n",
       " 'WSC0064',\n",
       " 'WSC0065',\n",
       " 'WSC0066',\n",
       " 'WSC0067',\n",
       " 'WSC0068',\n",
       " 'WSC0071',\n",
       " 'WSC0072',\n",
       " 'WSC0073',\n",
       " 'WSC0074',\n",
       " 'WSC0075',\n",
       " 'WSC0076',\n",
       " 'WSC0077',\n",
       " 'WSC0078',\n",
       " 'WSC0079',\n",
       " 'WSC0080',\n",
       " 'WSC0081',\n",
       " 'WSC0083',\n",
       " 'WSC0084',\n",
       " 'WSC0085',\n",
       " 'WSC0086',\n",
       " 'WSC0087',\n",
       " 'WSC0089',\n",
       " 'WSC0090',\n",
       " 'WSC0091',\n",
       " 'WSC0092',\n",
       " 'WSC0094',\n",
       " 'WSC0095',\n",
       " 'WSC0096',\n",
       " 'WSC0097',\n",
       " 'WSC0098',\n",
       " 'WSC0099',\n",
       " 'WSC0100',\n",
       " 'WSC0101',\n",
       " 'WSC0102',\n",
       " 'WSC0103',\n",
       " 'WSC0104',\n",
       " 'WSC0105',\n",
       " 'x WSC0004'}"
      ]
     },
     "execution_count": 45,
     "metadata": {},
     "output_type": "execute_result"
    }
   ],
   "source": [
    "status['accepted']"
   ]
  },
  {
   "cell_type": "code",
   "execution_count": 46,
   "metadata": {},
   "outputs": [
    {
     "data": {
      "text/plain": [
       "{'accepted': {'WSC0002',\n",
       "  'WSC0003',\n",
       "  'WSC0005',\n",
       "  'WSC0006',\n",
       "  'WSC0007',\n",
       "  'WSC0008',\n",
       "  'WSC0010',\n",
       "  'WSC0011',\n",
       "  'WSC0012',\n",
       "  'WSC0013',\n",
       "  'WSC0014',\n",
       "  'WSC0015',\n",
       "  'WSC0016',\n",
       "  'WSC0017',\n",
       "  'WSC0018',\n",
       "  'WSC0019',\n",
       "  'WSC0020',\n",
       "  'WSC0021',\n",
       "  'WSC0022',\n",
       "  'WSC0023',\n",
       "  'WSC0024',\n",
       "  'WSC0025',\n",
       "  'WSC0026',\n",
       "  'WSC0027',\n",
       "  'WSC0028',\n",
       "  'WSC0029',\n",
       "  'WSC0031',\n",
       "  'WSC0032',\n",
       "  'WSC0033',\n",
       "  'WSC0034',\n",
       "  'WSC0036',\n",
       "  'WSC0037',\n",
       "  'WSC0038',\n",
       "  'WSC0039',\n",
       "  'WSC0040',\n",
       "  'WSC0041',\n",
       "  'WSC0042',\n",
       "  'WSC0043',\n",
       "  'WSC0044',\n",
       "  'WSC0045',\n",
       "  'WSC0046',\n",
       "  'WSC0048',\n",
       "  'WSC0049',\n",
       "  'WSC0050',\n",
       "  'WSC0051',\n",
       "  'WSC0052',\n",
       "  'WSC0053',\n",
       "  'WSC0054',\n",
       "  'WSC0055',\n",
       "  'WSC0056',\n",
       "  'WSC0057',\n",
       "  'WSC0058',\n",
       "  'WSC0059',\n",
       "  'WSC0060',\n",
       "  'WSC0061',\n",
       "  'WSC0062',\n",
       "  'WSC0063',\n",
       "  'WSC0064',\n",
       "  'WSC0065',\n",
       "  'WSC0066',\n",
       "  'WSC0067',\n",
       "  'WSC0068',\n",
       "  'WSC0071',\n",
       "  'WSC0072',\n",
       "  'WSC0073',\n",
       "  'WSC0074',\n",
       "  'WSC0075',\n",
       "  'WSC0076',\n",
       "  'WSC0077',\n",
       "  'WSC0078',\n",
       "  'WSC0079',\n",
       "  'WSC0080',\n",
       "  'WSC0081',\n",
       "  'WSC0083',\n",
       "  'WSC0084',\n",
       "  'WSC0085',\n",
       "  'WSC0086',\n",
       "  'WSC0087',\n",
       "  'WSC0089',\n",
       "  'WSC0090',\n",
       "  'WSC0091',\n",
       "  'WSC0092',\n",
       "  'WSC0094',\n",
       "  'WSC0095',\n",
       "  'WSC0096',\n",
       "  'WSC0097',\n",
       "  'WSC0098',\n",
       "  'WSC0099',\n",
       "  'WSC0100',\n",
       "  'WSC0101',\n",
       "  'WSC0102',\n",
       "  'WSC0103',\n",
       "  'WSC0104',\n",
       "  'WSC0105',\n",
       "  'x WSC0004'},\n",
       " 'rejected': {'WSC0009',\n",
       "  'WSC0093',\n",
       "  'x WSC0001',\n",
       "  'x WSC0030',\n",
       "  'x WSC0035',\n",
       "  'x WSC0047',\n",
       "  'x WSC0069',\n",
       "  'x WSC0070',\n",
       "  'x WSC0082',\n",
       "  'x WSC0088'}}"
      ]
     },
     "execution_count": 46,
     "metadata": {},
     "output_type": "execute_result"
    }
   ],
   "source": [
    "status\n"
   ]
  },
  {
   "cell_type": "code",
   "execution_count": 47,
   "metadata": {},
   "outputs": [
    {
     "data": {
      "text/plain": [
       "{'WSC0009',\n",
       " 'WSC0093',\n",
       " 'x WSC0001',\n",
       " 'x WSC0030',\n",
       " 'x WSC0035',\n",
       " 'x WSC0047',\n",
       " 'x WSC0069',\n",
       " 'x WSC0070',\n",
       " 'x WSC0082',\n",
       " 'x WSC0088'}"
      ]
     },
     "execution_count": 47,
     "metadata": {},
     "output_type": "execute_result"
    }
   ],
   "source": [
    "status['rejected']"
   ]
  },
  {
   "cell_type": "code",
   "execution_count": 48,
   "metadata": {},
   "outputs": [
    {
     "data": {
      "text/plain": [
       "10"
      ]
     },
     "execution_count": 48,
     "metadata": {},
     "output_type": "execute_result"
    }
   ],
   "source": [
    "len(status['rejected'])"
   ]
  },
  {
   "cell_type": "code",
   "execution_count": 49,
   "metadata": {},
   "outputs": [
    {
     "data": {
      "text/plain": [
       "95"
      ]
     },
     "execution_count": 49,
     "metadata": {},
     "output_type": "execute_result"
    }
   ],
   "source": [
    "len(status['accepted'])"
   ]
  }
 ],
 "metadata": {
  "kernelspec": {
   "display_name": "Python 3",
   "language": "python",
   "name": "python3"
  },
  "language_info": {
   "codemirror_mode": {
    "name": "ipython",
    "version": 3
   },
   "file_extension": ".py",
   "mimetype": "text/x-python",
   "name": "python",
   "nbconvert_exporter": "python",
   "pygments_lexer": "ipython3",
   "version": "3.6.2"
  }
 },
 "nbformat": 4,
 "nbformat_minor": 2
}
