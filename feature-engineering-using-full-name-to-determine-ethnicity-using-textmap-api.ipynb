{
 "cells": [
  {
   "cell_type": "code",
   "execution_count": 204,
   "metadata": {
    "collapsed": true
   },
   "outputs": [],
   "source": [
    "import json\n",
    "import requests\n",
    "import pprint"
   ]
  },
  {
   "cell_type": "code",
   "execution_count": 349,
   "metadata": {
    "collapsed": true
   },
   "outputs": [],
   "source": [
    "URL = 'http://www.textmap.com/ethnicity_api/api'\n",
    "#URL = 'http://www.name-prism.com/api_eth'\n",
    "#payload = {\"name\":[\"james%20vinter\"]}\n",
    "payload = {\"names\":[\"jenna ramdenee\"]}"
   ]
  },
  {
   "cell_type": "code",
   "execution_count": 350,
   "metadata": {},
   "outputs": [
    {
     "data": {
      "text/plain": [
       "'convert payload to json '"
      ]
     },
     "execution_count": 350,
     "metadata": {},
     "output_type": "execute_result"
    }
   ],
   "source": [
    "'''convert payload to json '''"
   ]
  },
  {
   "cell_type": "code",
   "execution_count": 351,
   "metadata": {
    "collapsed": true
   },
   "outputs": [],
   "source": [
    "request = requests.post(URL, data=json.dumps(payload))"
   ]
  },
  {
   "cell_type": "code",
   "execution_count": 352,
   "metadata": {},
   "outputs": [
    {
     "data": {
      "text/plain": [
       "'{\"jenna ramdenee\":[{\"scores\":[{\"score\":\"0.06\",\"ethnicity\":\"Asian\"},{\"score\":\"0.53\",\"ethnicity\":\"GreaterAfrican\"},{\"score\":\"0.40\",\"ethnicity\":\"GreaterEuropean\"}],\"best\":\"GreaterAfrican\"},{\"scores\":[{\"score\":\"0.83\",\"ethnicity\":\"Africans\"},{\"score\":\"0.17\",\"ethnicity\":\"Muslim\"}],\"best\":\"Africans\"}]}'"
      ]
     },
     "execution_count": 352,
     "metadata": {},
     "output_type": "execute_result"
    }
   ],
   "source": [
    "request.text"
   ]
  },
  {
   "cell_type": "code",
   "execution_count": 353,
   "metadata": {},
   "outputs": [
    {
     "name": "stdout",
     "output_type": "stream",
     "text": [
      "('{\"jenna '\n",
      " 'ramdenee\":[{\"scores\":[{\"score\":\"0.06\",\"ethnicity\":\"Asian\"},{\"score\":\"0.53\",\"ethnicity\":\"GreaterAfrican\"},{\"score\":\"0.40\",\"ethnicity\":\"GreaterEuropean\"}],\"best\":\"GreaterAfrican\"},{\"scores\":[{\"score\":\"0.83\",\"ethnicity\":\"Africans\"},{\"score\":\"0.17\",\"ethnicity\":\"Muslim\"}],\"best\":\"Africans\"}]}')\n"
     ]
    }
   ],
   "source": [
    "pprint.pprint(request.text)"
   ]
  },
  {
   "cell_type": "code",
   "execution_count": 354,
   "metadata": {},
   "outputs": [
    {
     "data": {
      "text/plain": [
       "'check that result is valid json'"
      ]
     },
     "execution_count": 354,
     "metadata": {},
     "output_type": "execute_result"
    }
   ],
   "source": [
    "'''check that result is valid json'''"
   ]
  },
  {
   "cell_type": "code",
   "execution_count": 355,
   "metadata": {
    "collapsed": true
   },
   "outputs": [],
   "source": [
    "def valid_json(string):\n",
    "    try:\n",
    "        json.loads(string)\n",
    "    except ValueError as e:\n",
    "        print('this is not valid json: stacktrace {}'.format(e))\n",
    "        return False\n",
    "    return True\n",
    "        \n",
    "    "
   ]
  },
  {
   "cell_type": "code",
   "execution_count": 356,
   "metadata": {},
   "outputs": [
    {
     "name": "stdout",
     "output_type": "stream",
     "text": [
      "this is not valid json: stacktrace Expecting value: line 1 column 1 (char 0)\n"
     ]
    },
    {
     "data": {
      "text/plain": [
       "False"
      ]
     },
     "execution_count": 356,
     "metadata": {},
     "output_type": "execute_result"
    }
   ],
   "source": [
    "text = 'this is a test'\n",
    "valid_json(text)"
   ]
  },
  {
   "cell_type": "code",
   "execution_count": 357,
   "metadata": {},
   "outputs": [
    {
     "data": {
      "text/plain": [
       "True"
      ]
     },
     "execution_count": 357,
     "metadata": {},
     "output_type": "execute_result"
    }
   ],
   "source": [
    "valid_json(request.text)"
   ]
  },
  {
   "cell_type": "code",
   "execution_count": 358,
   "metadata": {},
   "outputs": [
    {
     "data": {
      "text/plain": [
       "'json.loads() converts json to a dictionary'"
      ]
     },
     "execution_count": 358,
     "metadata": {},
     "output_type": "execute_result"
    }
   ],
   "source": [
    "'''json.loads() converts json to a dictionary'''"
   ]
  },
  {
   "cell_type": "code",
   "execution_count": 359,
   "metadata": {},
   "outputs": [
    {
     "data": {
      "text/plain": [
       "['jenna ramdenee']"
      ]
     },
     "execution_count": 359,
     "metadata": {},
     "output_type": "execute_result"
    }
   ],
   "source": [
    "y = json.loads(request.text)\n",
    "payload[\"names\"]"
   ]
  },
  {
   "cell_type": "code",
   "execution_count": 360,
   "metadata": {
    "collapsed": true
   },
   "outputs": [],
   "source": [
    "c = payload[\"names\"]"
   ]
  },
  {
   "cell_type": "code",
   "execution_count": 361,
   "metadata": {
    "collapsed": true
   },
   "outputs": [],
   "source": [
    "x = ''.join(c)"
   ]
  },
  {
   "cell_type": "code",
   "execution_count": 367,
   "metadata": {},
   "outputs": [
    {
     "data": {
      "text/plain": [
       "'jenna ramdenee'"
      ]
     },
     "execution_count": 367,
     "metadata": {},
     "output_type": "execute_result"
    }
   ],
   "source": [
    "x"
   ]
  },
  {
   "cell_type": "code",
   "execution_count": 368,
   "metadata": {},
   "outputs": [
    {
     "data": {
      "text/plain": [
       "{'jenna ramdenee': [{'best': 'GreaterAfrican',\n",
       "   'scores': [{'ethnicity': 'Asian', 'score': '0.06'},\n",
       "    {'ethnicity': 'GreaterAfrican', 'score': '0.53'},\n",
       "    {'ethnicity': 'GreaterEuropean', 'score': '0.40'}]},\n",
       "  {'best': 'Africans',\n",
       "   'scores': [{'ethnicity': 'Africans', 'score': '0.83'},\n",
       "    {'ethnicity': 'Muslim', 'score': '0.17'}]}]}"
      ]
     },
     "execution_count": 368,
     "metadata": {},
     "output_type": "execute_result"
    }
   ],
   "source": [
    "y"
   ]
  },
  {
   "cell_type": "code",
   "execution_count": 369,
   "metadata": {},
   "outputs": [
    {
     "data": {
      "text/plain": [
       "['GreaterAfrican', 'Africans']"
      ]
     },
     "execution_count": 369,
     "metadata": {},
     "output_type": "execute_result"
    }
   ],
   "source": [
    "tt = [z['best'] for z in y[x]]\n",
    "tt"
   ]
  },
  {
   "cell_type": "code",
   "execution_count": 370,
   "metadata": {},
   "outputs": [
    {
     "data": {
      "text/plain": [
       "\"ethnicity of jenna ramdenee is ['GreaterAfrican', 'Africans']\""
      ]
     },
     "execution_count": 370,
     "metadata": {},
     "output_type": "execute_result"
    }
   ],
   "source": [
    "f'ethnicity of {x} is {(tt)}'\n"
   ]
  },
  {
   "cell_type": "code",
   "execution_count": null,
   "metadata": {
    "collapsed": true
   },
   "outputs": [],
   "source": []
  }
 ],
 "metadata": {
  "kernelspec": {
   "display_name": "Python 3",
   "language": "python",
   "name": "python3"
  },
  "language_info": {
   "codemirror_mode": {
    "name": "ipython",
    "version": 3
   },
   "file_extension": ".py",
   "mimetype": "text/x-python",
   "name": "python",
   "nbconvert_exporter": "python",
   "pygments_lexer": "ipython3",
   "version": "3.6.2"
  }
 },
 "nbformat": 4,
 "nbformat_minor": 2
}
